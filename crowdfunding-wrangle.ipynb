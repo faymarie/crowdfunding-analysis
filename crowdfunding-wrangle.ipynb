{
 "cells": [
  {
   "cell_type": "markdown",
   "metadata": {},
   "source": [
    "# Crowdfunding Data Wrangling"
   ]
  },
  {
   "cell_type": "markdown",
   "metadata": {},
   "source": [
    "# Table of contents\n",
    "1. [Introduction](#introduction)\n",
    "2. [Data Wrangling](#datawrangling)\n",
    "    1. [Visual Assessment](#visualassessment)\n",
    "    2. [Programmatic Assessment](#programmaticassessment)\n",
    "    3. [Issues Summary](#issuessummary)\n",
    "    4. [Cleaning Data](#cleaningdata)\n"
   ]
  },
  {
   "cell_type": "markdown",
   "metadata": {},
   "source": [
    "# Introduction <a name=\"introduction\"></a>\n",
    "Some introduction text, formatted in heading 2 style\n"
   ]
  },
  {
   "cell_type": "code",
   "execution_count": 1,
   "metadata": {},
   "outputs": [],
   "source": [
    "import pandas as pd\n",
    "import numpy as np\n",
    "import matplotlib.pyplot as plt\n",
    "import seaborn as sns\n",
    "import json\n",
    "import requests\n",
    "import time\n",
    "from csv import writer\n",
    "import sys\n",
    "\n",
    "# style settings\n",
    "# uncoment the below to avoid collapsing of dataframes\n",
    "# pd.set_option('display.max_rows', 2500)\n",
    "# pd.set_option('display.max_columns', 100)\n",
    "pd.set_option('display.max_colwidth', -1)"
   ]
  },
  {
   "cell_type": "markdown",
   "metadata": {},
   "source": [
    "# Data Wrangling <a name=\"datawrangling\"></a>\n",
    "Some introduction text, formatted in heading 2 style"
   ]
  },
  {
   "cell_type": "code",
   "execution_count": null,
   "metadata": {},
   "outputs": [],
   "source": [
    "# read in all files into one dataframe\n",
    "file_name =  './data/Kickstarter_{}.csv'\n",
    "kickstarter = pd.concat([pd.read_csv(file_name.format(i)) for i in range(56)])\n",
    "kickstarter.reset_index(drop=True, inplace=True)\n",
    "kickstarter.head()\n"
   ]
  },
  {
   "cell_type": "markdown",
   "metadata": {},
   "source": [
    "## Visual Assessment <a name=\"visualassessment\"></a>\n",
    "Some introduction text, formatted in heading 2 style"
   ]
  },
  {
   "cell_type": "code",
   "execution_count": null,
   "metadata": {},
   "outputs": [],
   "source": [
    "kickstarter"
   ]
  },
  {
   "cell_type": "markdown",
   "metadata": {},
   "source": [
    "## Programmatic Assessment <a name=\"programmaticassessment\"></a>\n",
    "Some introduction text, formatted in heading 2 style"
   ]
  },
  {
   "cell_type": "code",
   "execution_count": null,
   "metadata": {},
   "outputs": [],
   "source": [
    "kickstarter.info()"
   ]
  },
  {
   "cell_type": "code",
   "execution_count": null,
   "metadata": {},
   "outputs": [],
   "source": [
    "# find duplicated projects\n",
    "kickstarter[kickstarter.id.duplicated()].info()"
   ]
  },
  {
   "cell_type": "code",
   "execution_count": null,
   "metadata": {
    "scrolled": true
   },
   "outputs": [],
   "source": [
    "kickstarter.sample(20)"
   ]
  },
  {
   "cell_type": "code",
   "execution_count": null,
   "metadata": {},
   "outputs": [],
   "source": [
    "kickstarter[kickstarter.index == 192044]['category'][192044]"
   ]
  },
  {
   "cell_type": "code",
   "execution_count": null,
   "metadata": {},
   "outputs": [],
   "source": [
    "# Assess blurb style\n",
    "kickstarter[kickstarter.index == 22954]['blurb'][22954]"
   ]
  },
  {
   "cell_type": "code",
   "execution_count": null,
   "metadata": {},
   "outputs": [],
   "source": [
    "kickstarter.country.value_counts()"
   ]
  },
  {
   "cell_type": "code",
   "execution_count": null,
   "metadata": {},
   "outputs": [],
   "source": [
    "kickstarter[['country', 'location']]"
   ]
  },
  {
   "cell_type": "code",
   "execution_count": null,
   "metadata": {},
   "outputs": [],
   "source": [
    "# assess creator values\n",
    "kickstarter[kickstarter.index == 100156]['creator'][100156]"
   ]
  },
  {
   "cell_type": "code",
   "execution_count": null,
   "metadata": {},
   "outputs": [],
   "source": [
    "# assess currency\n",
    "kickstarter.currency.value_counts()"
   ]
  },
  {
   "cell_type": "code",
   "execution_count": null,
   "metadata": {},
   "outputs": [],
   "source": [
    "# assess currency_symbol\n",
    "kickstarter.currency_symbol.value_counts()"
   ]
  },
  {
   "cell_type": "code",
   "execution_count": null,
   "metadata": {},
   "outputs": [],
   "source": [
    "# assess current currency\n",
    "kickstarter.current_currency.value_counts()"
   ]
  },
  {
   "cell_type": "code",
   "execution_count": null,
   "metadata": {},
   "outputs": [],
   "source": [
    "# assess fx_rate\n",
    "kickstarter.fx_rate.value_counts()"
   ]
  },
  {
   "cell_type": "code",
   "execution_count": null,
   "metadata": {},
   "outputs": [],
   "source": [
    "# assess static usd rate\n",
    "kickstarter.static_usd_rate.value_counts()"
   ]
  },
  {
   "cell_type": "code",
   "execution_count": null,
   "metadata": {},
   "outputs": [],
   "source": [
    "# assess deadline\n",
    "print(kickstarter.disable_communication.value_counts())\n",
    "kickstarter[kickstarter.disable_communication == True]"
   ]
  },
  {
   "cell_type": "code",
   "execution_count": null,
   "metadata": {},
   "outputs": [],
   "source": [
    "# asses friends\n",
    "print(kickstarter.friends.value_counts())\n"
   ]
  },
  {
   "cell_type": "code",
   "execution_count": null,
   "metadata": {},
   "outputs": [],
   "source": [
    "# assess ids\n",
    "kickstarter[kickstarter.id.duplicated()]"
   ]
  },
  {
   "cell_type": "code",
   "execution_count": null,
   "metadata": {},
   "outputs": [],
   "source": [
    "# duplicated_ids = kickstarter[kickstarter.id.duplicated()].id\n",
    "# duplicated_projects = kickstarter_clean[kickstarter_clean.id.isin(duplicated_ids)].sort_values(by='id').reset_index(drop=True)\n",
    "# duplicated_projects"
   ]
  },
  {
   "cell_type": "code",
   "execution_count": null,
   "metadata": {},
   "outputs": [],
   "source": []
  },
  {
   "cell_type": "code",
   "execution_count": null,
   "metadata": {},
   "outputs": [],
   "source": [
    "# duplicated_projects.is_backing.value_counts()"
   ]
  },
  {
   "cell_type": "code",
   "execution_count": null,
   "metadata": {},
   "outputs": [],
   "source": [
    "# col_names = kickstarter_clean.columns\n",
    "# col_names\n",
    "# for i in range(0, len(duplicated_projects), 2):\n",
    "#     next_i = i + 1\n",
    "#     for col in col_names:\n",
    "#         if not (duplicated_projects.iloc[i][col] == duplicated_projects.iloc[next_i][col]):\n",
    "#             print(f\"{i} - {col}:\", \"\\n\", f\"{duplicated_projects.iloc[i][col]}\", \"\\n\\n\", f\"{duplicated_projects.iloc[next_i][col]}\")"
   ]
  },
  {
   "cell_type": "code",
   "execution_count": null,
   "metadata": {},
   "outputs": [],
   "source": [
    "# assess is_backing\n",
    "kickstarter.is_backing.value_counts()"
   ]
  },
  {
   "cell_type": "code",
   "execution_count": null,
   "metadata": {},
   "outputs": [],
   "source": [
    "kickstarter[kickstarter.is_backing == False]"
   ]
  },
  {
   "cell_type": "code",
   "execution_count": null,
   "metadata": {},
   "outputs": [],
   "source": [
    "# asses is starrable\n",
    "kickstarter.is_starrable.value_counts()"
   ]
  },
  {
   "cell_type": "code",
   "execution_count": null,
   "metadata": {},
   "outputs": [],
   "source": [
    "# asses is starrable\n",
    "kickstarter[(kickstarter.is_starred == False) | (kickstarter.is_starred == True)][['is_backing', 'is_starrable','is_starred']]"
   ]
  },
  {
   "cell_type": "code",
   "execution_count": null,
   "metadata": {},
   "outputs": [],
   "source": [
    "# assess location\n",
    "kickstarter.location[845]"
   ]
  },
  {
   "cell_type": "code",
   "execution_count": null,
   "metadata": {},
   "outputs": [],
   "source": [
    "# assess permission\n",
    "kickstarter.permissions.value_counts()"
   ]
  },
  {
   "cell_type": "code",
   "execution_count": null,
   "metadata": {
    "scrolled": true
   },
   "outputs": [],
   "source": [
    "kickstarter[kickstarter.permissions == \"[]\"][['friends', 'permissions', 'is_backing', 'is_starrable']]"
   ]
  },
  {
   "cell_type": "code",
   "execution_count": null,
   "metadata": {},
   "outputs": [],
   "source": [
    "# assess photo\n",
    "kickstarter[kickstarter.index == 1435]['photo'][1435]"
   ]
  },
  {
   "cell_type": "code",
   "execution_count": null,
   "metadata": {},
   "outputs": [],
   "source": [
    "# assess profile\n",
    "kickstarter[kickstarter.index == 1435]['profile'][1435]"
   ]
  },
  {
   "cell_type": "code",
   "execution_count": null,
   "metadata": {},
   "outputs": [],
   "source": [
    "# assess spotlight\n",
    "kickstarter.spotlight.value_counts()"
   ]
  },
  {
   "cell_type": "code",
   "execution_count": null,
   "metadata": {},
   "outputs": [],
   "source": [
    "# assess differences between converted pledged amount and usd pledged\n",
    "kickstarter[kickstarter['converted_pledged_amount'] != kickstarter['usd_pledged']][['name','converted_pledged_amount', 'usd_pledged']]"
   ]
  },
  {
   "cell_type": "code",
   "execution_count": null,
   "metadata": {},
   "outputs": [],
   "source": [
    "# assess state\n",
    "kickstarter.state.value_counts()"
   ]
  },
  {
   "cell_type": "code",
   "execution_count": null,
   "metadata": {},
   "outputs": [],
   "source": [
    "kickstarter[kickstarter.state == \"live\"]"
   ]
  },
  {
   "cell_type": "code",
   "execution_count": null,
   "metadata": {},
   "outputs": [],
   "source": [
    "kickstarter[kickstarter.state == \"suspended\"]"
   ]
  },
  {
   "cell_type": "code",
   "execution_count": null,
   "metadata": {},
   "outputs": [],
   "source": [
    "# assess urls\n",
    "kickstarter['urls'].values"
   ]
  },
  {
   "cell_type": "code",
   "execution_count": null,
   "metadata": {},
   "outputs": [],
   "source": [
    "kickstarter.iloc[893]['urls']"
   ]
  },
  {
   "cell_type": "code",
   "execution_count": null,
   "metadata": {},
   "outputs": [],
   "source": [
    "# usd type\n",
    "kickstarter.usd_type.value_counts()"
   ]
  },
  {
   "cell_type": "markdown",
   "metadata": {},
   "source": [
    "The below Code was used to assess duplicated entries. I found out that most duplicated projects were differing because they were scraped from a different source url. Some used the parent category, some used the subcatery of the project. Additionally, I detected duplicated observations due to different values in current currency and therefore differing exchange rates. Apart from that our relevant columns contain the same values.\n",
    "\n",
    "The below is outcommented, since it requires a lot of resources and may cause a massive slow-down of Jupyter Notebook."
   ]
  },
  {
   "cell_type": "code",
   "execution_count": null,
   "metadata": {},
   "outputs": [],
   "source": [
    "kickstarter[kickstarter.id.duplicated()]"
   ]
  },
  {
   "cell_type": "code",
   "execution_count": null,
   "metadata": {},
   "outputs": [],
   "source": [
    "# Assess duplicates\n",
    "# duplicated_ids = kickstarter_clean[kickstarter_clean.project_id.duplicated()].project_id\n",
    "# duplicated_projects = kickstarter_clean[kickstarter_clean.project_id.isin(duplicated_ids)].sort_values(by='id').reset_index(drop=True)\n",
    "# len(duplicated_projects.current_currency)\n",
    "\n",
    "# col_names = ['current_currency', 'fx_rate', 'static_usd_rate', 'converted_pledged_amount','usd_pledged', 'goal', 'source_url']\n",
    "# for i in range(0, len(duplicated_projects), 2):\n",
    "#     next_i = i + 1\n",
    "#     if not (duplicated_projects.iloc[i]['source_url'] == duplicated_projects.iloc[next_i]['source_url']):\n",
    "#         print(f\"{i}\")\n",
    "# #         print(f\"state1: {duplicated_projects.iloc[i]['state_changed_at']}\")\n",
    "# #         print(f\"state2: {duplicated_projects.iloc[next_i]['state_changed_at']}\")\n",
    "# #         print(f\"update1: {duplicated_projects.iloc[i]['last_update_at']}\")\n",
    "# #         print(f\"update2: {duplicated_projects.iloc[next_i]['last_update_at']}\")     \n",
    "#         for col in col_names:\n",
    "#             if not (duplicated_projects.iloc[i][col] == duplicated_projects.iloc[next_i][col]):\n",
    "#                 print(f\"{col}, {duplicated_projects.iloc[i][col]}\", \"\\n\", f\"{duplicated_projects.iloc[next_i][col]}\")\n",
    "#                 print(f\"cat1: {duplicated_projects.iloc[i]['category']}\")\n",
    "#                 print(f\"cat2: {duplicated_projects.iloc[next_i]['category']}\")\n",
    "#                 print(f\"sub1: {duplicated_projects.iloc[next_i]['subcategory']}\")\n",
    "#                 print(f\"sub2: {duplicated_projects.iloc[next_i]['subcategory']}\")"
   ]
  },
  {
   "cell_type": "markdown",
   "metadata": {},
   "source": [
    "### Data Information Summary\n",
    "\n",
    "Above I visually assessed the data available. By inspecting the terms and values and identify their meaning according to the Kickstarter website. One of the main problem of this data is the missing documentation of how the Kickstarter data was exactly scraped or generated. Some column names are not descriptive enough or leave room for ambiguity. The below value interpretation is based on comparison of our available features with online information of projects on kickstarter.com.  \n",
    "\n",
    "**backers_count:** Number of people supporting a project with any amount.  \n",
    "**blurb:** A short project summary that comes as a string.  \n",
    "**category:** Contains a string representation of a dictionary containing kickstarter category information. Most relevant for us is the category's \"name\" and the higher level category \"slug\", which represents the rightmost past of the category URI. The term before slash, represents a higher level category and the name is equal to the term after the slash is a subcategory. Sometimes, there is no category, so slug and name contain the same term, only name is capitalized.  \n",
    "**converted_pledged_amount:** Amount of funds raised, converted to _current currency_ (see below).  \n",
    "**country:** Project country (abbr.)  \n",
    "**created_at:** Time project was created as unix epoch time.  \n",
    "**creator:** String representation of a dictionary describing the project creator, containing:  \n",
    "- user id, \n",
    "- name: chosen user name, which doesn't follow a specific format. It may be an actual first and last name and/or a username or company name,\n",
    "- slug, creator profile slug\n",
    "- links to the user's avatars in different sizes, \n",
    "- link to a user's profile in the form of: https://www.kickstarter.com/profile/ + user_id,\n",
    "- user's API endpoint (which is not accessible to us),\n",
    "- \"is_registered\" and \"chosen_currency\" all have \"null\" as a value   \n",
    "\n",
    "\n",
    "**currency:** Project currency, which is heavily biased towards USD.  \n",
    "**currency_symbol:** Project currency_symbol. Only contains 6 values, although more currencies available. Some projects funds are being converted to USD instead of keeping the original currency.  converteThe reason is, that some currencies are not directly available. Although the project asks funds in a country's currency, it's being collected in USD.  \n",
    "**currency_trailing_code:** Contains Booleans, indicating whether funds are collected in the project's original currency or if it is being transfered to another currency???? Booleans are false for EUR, GBP, JPY and CHF. One assumption may be, it's related to the subunit system of a currency. While EUR uses decimals of e.g. 1 cent, the smallest value of a NZD is 0.10 cent. A USD can be divided by 1000 (\"mill\"). Maybe it's related to US Dollar same day or next day????  \n",
    "**current_currency:** Contains 5 currencies (USD, CAD, AUD, GBP and EUR). Refers to the currency, the project currency is translates to, which is mostly USD.  \n",
    "**deadline:** Project funding deadline as unix integer.   \n",
    "**disable_communication:** Unsure what it is about. Contains boolean. Maybe if a creator wants to be contacted. Meaning unclear.    \n",
    "**friends:** Is empty, or contains empty square brackets in a few cases.  \n",
    "**fx_rate:** Stands for foreign exchange rate. It's the exchange rate used to convert the project's currency into the current currency at the time of the data scraping (float).  \n",
    "**goal:** Funding goal in project currency (float).  \n",
    "**id:** Internal kickstarter id.  \n",
    "**is_backing:** Unclear what it means, but it appears those projects are live and are neither spotlighted, nor staff-picked.   \n",
    "**is_starrable:** Contains boolean values. It's mostly false. Meaning unclear.  \n",
    "**is_starred:** Boolean, but mostly nan. Interestingly, is_backing and is starrable contain the same values for one observations. Meaning unclear.  \n",
    "**launched_at:** Time project opened for funding as unix int.  \n",
    "**location:** String representation of a dictionary, containing location information:  \n",
    "- _id:_location id,\n",
    "- _name:_ city name,\n",
    "- _slug:_ location slug\",\n",
    "- _short name:_ city + country or US-state  \n",
    "- _displayable name:_city, + country or US-state,\n",
    "- _localized name_: name of the city\n",
    "- _country_: country's initials\n",
    "- _state_: local state/region,\n",
    "- _type_: location type - town or ???\n",
    "- _is root_: false, unclear meaning,\n",
    "- _urls_: location specific search urls  \n",
    "\n",
    "**name:** Project title    \n",
    "**permissions:** Is empty, or contains empty square brackets in a few cases. Interestingly, there are only values, if there is a value in other columns: _friends_, _is_backing_,_is starrable_.  \n",
    "**photo:** Json string containing urls to project cover photos in multiple sizes: original, ed, med, little, small, thumb, 1024x576, 1536x864.  \n",
    "**pledged:** Amount pledged in project currency  \n",
    "**profile:** Json string containing fundamental project information in the project page header:  \n",
    "- _id_ and _project id:_ both keys contain the project id. It's duplicated data!\n",
    "- _state:_ Refers to a project can be followed, even after funding deadline. Values are 'inactive' or 'active',  \n",
    "- _state changed at:_ time profile information was changed  \n",
    "- _name:_ project title (cf. _name_)\n",
    "- _blurb:_ Short campaign discription, it may be different from above _blurb_  \n",
    "- _background color_, _text color_, _link background color:_hex code, link_text_color: hex code,\n",
    "- _link text: text on button,\n",
    "- _link url_: \n",
    "- _image urls_   \n",
    "\n",
    "**slug:** Project URI slug.  \n",
    "**source_url:** Category URIs.    \n",
    "**spotlight:** Boolean. It is true for successful projects that can still update users on current events after the funding has ended.  \n",
    "**staff_pick:** Boolean refering to Kickstarter's 'Projects We Love' Badge. Those projects are featured on Kickstarter's landing page and may even communicated in Kickstarter's newsletter.  \n",
    "**state:** Refers to the current status of a project: successful, failed, canceled, live, suspended.    \n",
    "**state_changed_at:** When the status of the project changed last (ending of campaign).  \n",
    "**static_usd_rate:** Static exchange rate to USD. What exactly this exchange rate stands for and what date it relates to, remains unclear to me.   \n",
    "**urls:** Json style string, containing:\n",
    "- _project:_Link to project campaign page, which ends by unnecessary search query term: '?ref=discovery_category_newest'\n",
    "- _rewards:_ Link to project rewards \n",
    "\n",
    "**usd pledged:** Amount pledged in USD, converted using static USD conversion rate.   \n",
    "**usd type:** International vs. domestic dollar type. However, since US projects are often considered international dollar, the meaning remains unclear to me.\n"
   ]
  },
  {
   "cell_type": "markdown",
   "metadata": {},
   "source": [
    "## Issues Summary <a name=\"issuessummary\"></a>\n",
    "### Tidiness Issues\n",
    "- _category_ Contains multiple variables in form of a string representation of a dictionary. Category name and category slug should have separate columns.\n",
    "- _creator_ Contains multiple variables in form of a string representation of a dictionary. Creator id and creator name should be its own columns.\n",
    "- _location_ Contains multiple variables in form of a string representation of a dictionary. City, state, displayable name and location type should be its own columns.\n",
    "- _photos_ contains multiple variables in form of a string representation of a dictionary. Image link of size 'ed' should be stored in a separate column.\n",
    "- _profile_ comes as json-style string, containing multiple variables. Project id should be stored in a separate column.\n",
    "- Urls comes as json-style string, containing multiple variables. There should be one single url pointing to a project.  \n",
    "- Duplicated projects with different values in multiple columns\n",
    "\n",
    "\n",
    "### Quality Issues\n",
    "- _created at_, _deadline_ , _launched at_, _state changed at_ and _last updated at_ time format is not human readable.\n",
    "- Observations don't follow an ordered pattern. An historic order would help improving interpretation.\n",
    "- Projects in the stage \"live\" are not relevant to our research.\n",
    "- Unreliable currency conversion: _static usd rate_ and _fx rate_ values are in doubt due to suspicious variation of values and missing documentation.\n",
    "- _goal_ and _usd pledged_ are incomparable due to non-matching currencies and doubtful exchange rates. \n",
    "- Erroneous values in _country_.They should match the value in _location_.\n",
    "- Some projects miss a description (blurb).\n",
    "- Erroneous data types - _country_, _currency_, _status_, _category_ and _subcategory_ should be of type category.\n",
    "- Ambiguous column naming: name should relate to project names, pledged and goal should include the currency measures\n",
    "- Irrelevant features"
   ]
  },
  {
   "cell_type": "markdown",
   "metadata": {},
   "source": [
    "## Cleaning Data <a name=\"cleaningdata\"></a>\n",
    "We are now goint to prepare our data for analysis. Any corrupt, inaccurate and unnecessary observations are being corrected or removed with the goal to create a master dataframe to work with.\n",
    "\n",
    "## Tidiness"
   ]
  },
  {
   "cell_type": "code",
   "execution_count": null,
   "metadata": {},
   "outputs": [],
   "source": [
    "# Create copy of data frame\n",
    "kickstarter_clean = kickstarter.copy()"
   ]
  },
  {
   "cell_type": "markdown",
   "metadata": {},
   "source": [
    "**_Category contains multiple variables in from of a string representation of a dictionary. Category name and category slug should have separate columns._**\n",
    "\n",
    "**Define**\n",
    "\n",
    "Rename _category_ to _inital category_. Convert string into a dictionary. Extract values of the keys 'name' and 'slug' from _initial category_ and store each value in a new, separate column. Store name in _subcategory_ and slug in _category_. Only keep the parent category from slug, which is the term before slash-character.\n",
    "\n",
    "**Code**"
   ]
  },
  {
   "cell_type": "code",
   "execution_count": null,
   "metadata": {},
   "outputs": [],
   "source": [
    "# Rename category\n",
    "kickstarter_clean.rename(index=str, columns={\"category\": \"initial_category\"}, inplace=True)\n",
    "\n",
    "# convert string to dictionary\n",
    "categories = [json.loads(kickstarter_clean.iloc[int(i)]['initial_category']) for i in kickstarter_clean.index ]\n",
    "\n",
    "# extract slug and name\n",
    "kickstarter_clean['subcategory'] = [category['name'] for category in categories]\n",
    "kickstarter_clean['category'] = [category['slug'] for category in categories]\n",
    "\n",
    "# Extract parent category from slug\n",
    "kickstarter_clean['category'] = kickstarter_clean['category'].str.extract(r'(?P<category>^[a-zA-Z0-9 & _-]+)', expand=True)\n",
    "\n",
    "# Capitalize category\n",
    "kickstarter_clean['category'] = kickstarter_clean['category'].str.title()"
   ]
  },
  {
   "cell_type": "markdown",
   "metadata": {},
   "source": [
    "**Test**"
   ]
  },
  {
   "cell_type": "code",
   "execution_count": null,
   "metadata": {},
   "outputs": [],
   "source": [
    "# category was renamed to initital category\n",
    "if 'initial_category' in kickstarter_clean.columns:\n",
    "    print(\"Initial category found.\")\n",
    "else:\n",
    "    print(\"Initial category NOT found.\")"
   ]
  },
  {
   "cell_type": "code",
   "execution_count": null,
   "metadata": {},
   "outputs": [],
   "source": [
    "# We should have two additional columns: category name and subcategory  \n",
    "kickstarter_clean[['subcategory', 'category']].sample(10)"
   ]
  },
  {
   "cell_type": "code",
   "execution_count": null,
   "metadata": {},
   "outputs": [],
   "source": [
    "# all categories and subcategories are capitalized and correct\n",
    "kickstarter_clean.category.value_counts()"
   ]
  },
  {
   "cell_type": "code",
   "execution_count": null,
   "metadata": {
    "scrolled": true
   },
   "outputs": [],
   "source": [
    "kickstarter_clean.subcategory.value_counts()"
   ]
  },
  {
   "cell_type": "markdown",
   "metadata": {},
   "source": [
    "**_Creator contains multiple variables in the form of a JSON string. Creator id and creator name should be its own columns._**\n",
    "\n",
    "**Define**  \n",
    "We find some creator entries being invalid JSON. For example, some creators are using nicknames in quotation marks (e.g. \"name\":\"Kat \"NomadiKat\" Vallera\"). Therefore, we can't easily convert our string into a dictionary using the json module. Instead, we extract id and name using regular expressions, remove remaining keys and quotation marks and convert _creator id_ into an integer. We store our values in two new columns: _creator id_ and _creator name_.\n"
   ]
  },
  {
   "cell_type": "markdown",
   "metadata": {},
   "source": [
    "**Code**"
   ]
  },
  {
   "cell_type": "code",
   "execution_count": null,
   "metadata": {},
   "outputs": [],
   "source": [
    "# extract creator id and creator name from json object\n",
    "kickstarter_clean['creator_id'] = kickstarter_clean['creator'].str.extract(r'(?P<creator_id>\\\"id[\\\":]+\\d+)', expand=True)\n",
    "kickstarter_clean['creator_name'] = kickstarter_clean['creator'].replace(\",\",\"\\,\")\n",
    "kickstarter_clean['creator_name'] = kickstarter_clean['creator_name'].str.extract(r'(?P<creator_name>\\\"name\\\":\\\"[\\S\\s]+(\",\"))', expand=True)\n",
    "\n",
    "\n",
    "# remove keys and uneccessary double quotes and convert to appropriate data format\n",
    "kickstarter_clean['creator_id'] = [int(creator[5:]) for creator in kickstarter_clean['creator_id'].values]\n",
    "kickstarter_clean['creator_name'] = [str(name)[8:-3] for name in kickstarter_clean['creator_name'].values]\n",
    "\n",
    "# slice off string starting from 'slug' or 'is_registered'\n",
    "def cut_ending(name):\n",
    "    i = name.find(\"slug\")\n",
    "    if i != -1: return name[:i-3]\n",
    "    i = name.find(\"is_registered\")\n",
    "    if i != -1: return name[:i-3]\n",
    "    return name\n",
    "\n",
    "kickstarter_clean['creator_name'] = kickstarter_clean['creator_name'].apply(cut_ending)"
   ]
  },
  {
   "cell_type": "markdown",
   "metadata": {},
   "source": [
    "**Test**"
   ]
  },
  {
   "cell_type": "code",
   "execution_count": null,
   "metadata": {},
   "outputs": [],
   "source": [
    "# We have two new columns. \n",
    "kickstarter_clean[['creator_id', 'creator_name']].sample(20)"
   ]
  },
  {
   "cell_type": "code",
   "execution_count": null,
   "metadata": {
    "scrolled": true
   },
   "outputs": [],
   "source": [
    "#  creator_id is integer\n",
    "kickstarter_clean.creator_id.sample(3)"
   ]
  },
  {
   "cell_type": "code",
   "execution_count": null,
   "metadata": {},
   "outputs": [],
   "source": [
    "# test if any empty creator names\n",
    "kickstarter_clean[kickstarter_clean.creator_name == '']['creator_name'].any()"
   ]
  },
  {
   "cell_type": "markdown",
   "metadata": {},
   "source": [
    "**_Location contains multiple variables in form of a string representation of a dictionary. City, state, displayable name and location type should be its own columns._**\n",
    "\n",
    "**_Erroneous values in country. They should match the value in location._**  \n",
    "\n",
    "**Define**  \n",
    "Start by removing unwanted nan values from our location data. It makes it easier to convert our json string into a dictionary, using the json module. Rename the column refering to the project's _state_ in _status_ to avoid misunderstanding a location's _state_. Then, extract the values of _name_, _state_, _displayable name_, _type_, _country_ and store them in separate new columns _city_, _state_, _displ loc_, _loc type_ and _country_.\n",
    "\n",
    "**Code**"
   ]
  },
  {
   "cell_type": "code",
   "execution_count": null,
   "metadata": {},
   "outputs": [],
   "source": [
    "# drop observations without location\n",
    "kickstarter_clean.dropna(subset=['location'], inplace=True)\n",
    "kickstarter_clean.reset_index(drop=True, inplace=True)\n",
    "\n",
    "# convert string to dictionary\n",
    "locations = [json.loads(kickstarter_clean.iloc[int(i)]['location']) for i in kickstarter_clean.index ]\n",
    "\n",
    "# rename state into status\n",
    "kickstarter_clean.rename(index = str, columns={\"state\": \"status\"},  inplace = True) \n",
    "\n",
    "# extract city name, staye, displayable location and type\n",
    "kickstarter_clean['city'] = [location['name'] for location in locations]\n",
    "kickstarter_clean['state'] = [location['state'] for location in locations]\n",
    "kickstarter_clean['displ_loc'] = [location['displayable_name'] for location in locations]\n",
    "kickstarter_clean['loc_type'] = [location['type'] for location in locations]\n",
    "kickstarter_clean['country'] = [location['country'] for location in locations]\n"
   ]
  },
  {
   "cell_type": "markdown",
   "metadata": {},
   "source": [
    "**Test**"
   ]
  },
  {
   "cell_type": "code",
   "execution_count": null,
   "metadata": {},
   "outputs": [],
   "source": [
    "# renaming successful\n",
    "kickstarter_clean.status.value_counts()"
   ]
  },
  {
   "cell_type": "code",
   "execution_count": null,
   "metadata": {},
   "outputs": [],
   "source": [
    "# There shouldn't be any null values left\n",
    "kickstarter_clean.location.isna().any()"
   ]
  },
  {
   "cell_type": "code",
   "execution_count": null,
   "metadata": {},
   "outputs": [],
   "source": [
    "# new columns: 'city', 'state', 'displ_location', 'loc_type' \n",
    "kickstarter_clean[['city', 'state', 'displ_loc', 'loc_type', 'country', 'location']].sample(20)"
   ]
  },
  {
   "cell_type": "markdown",
   "metadata": {},
   "source": [
    "_**Photo contains multiple variables in form of a string representation of a dictionary. Image link of size 'ed' should should be stored in a separate column.**_\n",
    "\n",
    "**Define**  \n",
    "Convert _photo_ into a dict, using the json module. Extract the image link to be found in the key 'ed' and store the values in a separate column _image'_.\n",
    "\n",
    "**Code**"
   ]
  },
  {
   "cell_type": "code",
   "execution_count": null,
   "metadata": {},
   "outputs": [],
   "source": [
    "# convert string to dictionary\n",
    "photos = [json.loads(kickstarter_clean.iloc[int(i)]['photo']) for i in kickstarter_clean.index ]"
   ]
  },
  {
   "cell_type": "code",
   "execution_count": null,
   "metadata": {},
   "outputs": [],
   "source": [
    "# extract image of size 'ed' and store in new column 'image'\n",
    "kickstarter_clean['image'] = [photo['ed'] for photo in photos]"
   ]
  },
  {
   "cell_type": "markdown",
   "metadata": {},
   "source": [
    "**Test**"
   ]
  },
  {
   "cell_type": "code",
   "execution_count": null,
   "metadata": {},
   "outputs": [],
   "source": [
    "kickstarter_clean.image.sample(20)"
   ]
  },
  {
   "cell_type": "code",
   "execution_count": null,
   "metadata": {},
   "outputs": [],
   "source": [
    "kickstarter_clean.iloc[8354]['image']"
   ]
  },
  {
   "cell_type": "markdown",
   "metadata": {},
   "source": [
    "**_Profile contains multiple variables in form of a string representation of a dictionary. Project id should be its own column._**\n",
    "\n",
    "**Define**  \n",
    "Due to un-escaped quotation marks within values, the JSON is invalid. We extract the id from _product id_ using regular expression, remove remaining keys and quotation marks and convert creator id into an integer. We store our values in a new column: _project id_.\n",
    "\n",
    "**Code**"
   ]
  },
  {
   "cell_type": "code",
   "execution_count": null,
   "metadata": {},
   "outputs": [],
   "source": [
    "kickstarter_clean.iloc[636]['slug']"
   ]
  },
  {
   "cell_type": "code",
   "execution_count": null,
   "metadata": {},
   "outputs": [],
   "source": [
    "# extract creator id and creator name from json object\n",
    "kickstarter_clean['project_id'] = kickstarter_clean['profile'].str.extract(r'(?P<project_id>\\\"project_id\\\":\\d+)', expand=True)\n",
    "\n",
    "# remove keys and uneccessary double quotes and convert to int\n",
    "kickstarter_clean['project_id'] = [int(project_id[13:]) for project_id in kickstarter_clean['project_id'].values]"
   ]
  },
  {
   "cell_type": "code",
   "execution_count": null,
   "metadata": {},
   "outputs": [],
   "source": [
    "# extract profile_changed_at\n",
    "kickstarter_clean['last_update_at'] = kickstarter_clean['profile'].str.extract(r'(?P<profile_changed_at>\\\"state_changed_at\":\\d+)', expand=True)\n",
    "\n",
    "# remove keys and uneccessary double quotes and convert to int\n",
    "kickstarter_clean['last_update_at'] = [int(time[19:]) for time in kickstarter_clean['last_update_at'].values]\n"
   ]
  },
  {
   "cell_type": "markdown",
   "metadata": {},
   "source": [
    "**Test**"
   ]
  },
  {
   "cell_type": "code",
   "execution_count": null,
   "metadata": {},
   "outputs": [],
   "source": [
    "kickstarter_clean.urls.iloc[5658]"
   ]
  },
  {
   "cell_type": "code",
   "execution_count": null,
   "metadata": {},
   "outputs": [],
   "source": [
    "#  project_id is integer\n",
    "kickstarter_clean[['project_id', 'profile', 'id', 'creator_id', 'location', 'last_update_at']].iloc[55858]"
   ]
  },
  {
   "cell_type": "code",
   "execution_count": null,
   "metadata": {},
   "outputs": [],
   "source": [
    "kickstarter_clean['last_update_at'].sample()"
   ]
  },
  {
   "cell_type": "markdown",
   "metadata": {},
   "source": [
    "_**Urls comes as json-style string, containing multiple variables. There should be one single url pointing to a project.**_ \n",
    "\n",
    "**Define**  \n",
    "Convert urls into a dictionary and extract the value of key 'project'. Remove the category query string from the end of the URI.\n",
    "\n",
    "**Code**"
   ]
  },
  {
   "cell_type": "code",
   "execution_count": null,
   "metadata": {},
   "outputs": [],
   "source": [
    "# convert string to dictionary\n",
    "urls = [json.loads(kickstarter_clean.iloc[int(i)]['urls']) for i in kickstarter_clean.index ]\n",
    "\n",
    "# remove query string\n",
    "kickstarter_clean['url'] = [url['web']['project'].replace(\"?ref=discovery_category_newest\", \"\") for url in urls]"
   ]
  },
  {
   "cell_type": "markdown",
   "metadata": {},
   "source": [
    "**Test**"
   ]
  },
  {
   "cell_type": "code",
   "execution_count": null,
   "metadata": {},
   "outputs": [],
   "source": [
    "kickstarter_clean.url.sample(10)"
   ]
  },
  {
   "cell_type": "markdown",
   "metadata": {},
   "source": [
    "_**Duplicated projects with different values in multiple columns**_\n",
    "\n",
    "**Define**  \n",
    "The assessment of duplicates shows that duplciated entries are caused by values that are irrelevant for our research. Accordingly, it is sufficient to remove duplicates observations referring to the same project_id. Keep the first observation in each case.\n",
    "\n",
    "**Code**"
   ]
  },
  {
   "cell_type": "code",
   "execution_count": null,
   "metadata": {},
   "outputs": [],
   "source": [
    "kickstarter_clean.drop_duplicates(subset=['project_id'], keep='first', inplace=True)\n",
    "kickstarter_clean.reset_index(drop=True, inplace=True)"
   ]
  },
  {
   "cell_type": "markdown",
   "metadata": {},
   "source": [
    "**Test**"
   ]
  },
  {
   "cell_type": "code",
   "execution_count": null,
   "metadata": {},
   "outputs": [],
   "source": [
    "# There shouldn't be any duplcated project ids left.\n",
    "len(kickstarter_clean[kickstarter_clean.project_id.duplicated()])"
   ]
  },
  {
   "cell_type": "markdown",
   "metadata": {},
   "source": [
    "## Quality issues\n",
    "_**Created at, deadline, launched at, state changed at and last updated at time format is not human readable.**_\n",
    "\n",
    "**Define**  \n",
    "Convert Created at, deadline, launched at, state changed at and last updated into datetime format.  \n",
    "\n",
    "**Code**"
   ]
  },
  {
   "cell_type": "code",
   "execution_count": null,
   "metadata": {},
   "outputs": [],
   "source": [
    "kickstarter_clean[['created_at', 'launched_at', 'state_changed_at', 'deadline', 'last_update_at']] = kickstarter_clean[['created_at', 'launched_at', 'state_changed_at', 'deadline', 'last_update_at']].apply(pd.to_datetime, unit='s')"
   ]
  },
  {
   "cell_type": "markdown",
   "metadata": {},
   "source": [
    "**Test**"
   ]
  },
  {
   "cell_type": "code",
   "execution_count": null,
   "metadata": {},
   "outputs": [],
   "source": [
    "kickstarter_clean[['created_at', 'launched_at', 'state_changed_at', 'deadline', 'last_update_at']].sample(5)"
   ]
  },
  {
   "cell_type": "markdown",
   "metadata": {},
   "source": [
    "_**Observations don't follow an ordered pattern. A historic order would help improving interpretation.**_\n",
    "\n",
    "\n",
    "**Define**  \n",
    "Sort observations in descending order based on the moment a project was _launched at_.\n",
    "\n",
    "**Code**"
   ]
  },
  {
   "cell_type": "code",
   "execution_count": null,
   "metadata": {},
   "outputs": [],
   "source": [
    "kickstarter_clean.sort_values(by='launched_at', ascending=False, inplace=True)\n",
    "kickstarter_clean.reset_index(drop=True, inplace=True)"
   ]
  },
  {
   "cell_type": "markdown",
   "metadata": {},
   "source": [
    "**Test**"
   ]
  },
  {
   "cell_type": "code",
   "execution_count": null,
   "metadata": {},
   "outputs": [],
   "source": [
    "kickstarter_clean.launched_at.head(10)"
   ]
  },
  {
   "cell_type": "code",
   "execution_count": null,
   "metadata": {},
   "outputs": [],
   "source": [
    "kickstarter_clean.launched_at.tail()"
   ]
  },
  {
   "cell_type": "markdown",
   "metadata": {},
   "source": [
    "_**Projects in the stage \"live\" are not relevant to our research.**_  \n",
    "\n",
    "**Define**  \n",
    "Remove projects containing 'live' as a status.\n",
    "\n",
    "**Code**  "
   ]
  },
  {
   "cell_type": "code",
   "execution_count": null,
   "metadata": {},
   "outputs": [],
   "source": [
    "kickstarter_clean = kickstarter_clean[kickstarter_clean.status != \"live\"]"
   ]
  },
  {
   "cell_type": "markdown",
   "metadata": {},
   "source": [
    "**Test**"
   ]
  },
  {
   "cell_type": "code",
   "execution_count": null,
   "metadata": {},
   "outputs": [],
   "source": [
    "kickstarter_clean.status.value_counts()"
   ]
  },
  {
   "cell_type": "markdown",
   "metadata": {},
   "source": [
    "_**Unreliable currency conversion: static usd rate and fx rate values are in doubt due to suspicious variation of values and missing documentation.**_\n",
    "\n",
    "**Define**  \n",
    "As we are in question about the exchange rates within our data, gather the exchange rates from the API of European Central Bank: https://exchangeratesapi.io/ .  \n",
    "First request the current exchange rate as of today using USD as the currency base. Generate a new column and match the current exchange rate to the project's currency: USD, GBP, EUR, CAD, AUD, MXN, SEK, NZD, DKK, HKD, CHF,SGD, NOK and JPY.  \n",
    "Generate a second column of exchange rates, based on historic exchange values to allow a better comparison of the true value of a project funding. Choose the project's deadline as a validation point since this is the decision day for whether a funding is warranted to the project owners. The request will take some hours. Make sure to cache your data to a csv file to not run the request multiple times.  \n",
    "\n",
    "\n",
    "**Code**"
   ]
  },
  {
   "cell_type": "code",
   "execution_count": null,
   "metadata": {},
   "outputs": [],
   "source": [
    "# request current exchange rates based on USD\n",
    "url = 'https://api.exchangeratesapi.io/latest?base=USD'\n",
    "response = requests.get(url)\n",
    "\n",
    "current_fx_rates = json.loads(response.content)\n",
    "print(f\"Current exchange rates base USD, date: {current_fx_rates['date']}.\\n\")\n",
    "print(current_fx_rates)"
   ]
  },
  {
   "cell_type": "code",
   "execution_count": null,
   "metadata": {},
   "outputs": [],
   "source": [
    "# create new column for current exchange rates\n",
    "currencies = kickstarter_clean['currency'].values\n",
    "kickstarter_clean['current_fx_rate(usd)'] = [float(current_fx_rates['rates'][currency]) for currency in currencies]"
   ]
  },
  {
   "cell_type": "code",
   "execution_count": null,
   "metadata": {},
   "outputs": [],
   "source": [
    "# This cell is commented out since the request takes 3-4 hours.\n",
    "# get historic usd exchange rates based on date of project ending \n",
    "\n",
    "# required values to request rates\n",
    "# deadlines = [str(deadline)[:10] for deadline in kickstarter_clean['deadline'].values]\n",
    "# url = 'https://api.exchangeratesapi.io/{}?base=USD'\n",
    "\n",
    "# # use to request exchange rates\n",
    "# def get_fx_rate(index):\n",
    "#     fx_url = url.format(deadlines[index])\n",
    "#     response = requests.get(fx_url)\n",
    "#     response = json.loads(response.content)\n",
    "#     currency = kickstarter_clean.iloc[index]['currency']\n",
    "#     return float(response['rates'][currency])\n",
    "\n",
    "# # use to write exchange rate\n",
    "# def write_hist_rate(csv_writer, index):\n",
    "#     try:\n",
    "#         rate = get_fx_rate(index)\n",
    "#         csv_writer.writerow([kickstarter_clean.iloc[index]['project_id'], rate])\n",
    "#         print(index, kickstarter_clean.iloc[index]['currency'], ' - ', rate) \n",
    "#     except:\n",
    "#         print(\"Unexpected error:\", sys.exc_info()[0])\n",
    "# # cache data in csv\n",
    "# start = time.time()\n",
    "# print(\"Start exchange rate requests.\")\n",
    "# with open('exchange_rates.csv', 'w') as file:\n",
    "#     csv_writer = writer(file)\n",
    "#     csv_writer.writerow(['project_id','hist_exchange_rate(usd)']) # header\n",
    "#     for i in range(len(deadlines)):\n",
    "#         if kickstarter_clean.iloc[i]['currency'] == 'USD':  # no conversion required for USD\n",
    "#             csv_writer.writerow([kickstarter_clean.iloc[i]['project_id'], 1.0])\n",
    "#         else:  # request rate and write to file \n",
    "#             write_hist_rate(csv_writer, i)\n",
    "# end = time.time()\n",
    "# print(\"Process finisheed. Time elapsed: \", round((end-start) / 60, 2), \"min.\" )"
   ]
  },
  {
   "cell_type": "markdown",
   "metadata": {},
   "source": [
    "**Test**  "
   ]
  },
  {
   "cell_type": "code",
   "execution_count": null,
   "metadata": {},
   "outputs": [],
   "source": [
    "kickstarter_clean['current_fx_rate(usd)'].sample(10)"
   ]
  },
  {
   "cell_type": "markdown",
   "metadata": {},
   "source": [
    "_**Goal and usd pledged are incomparable due to non-matching currencies and doubtful exchange rates.**_\n",
    "\n",
    "**Define**  \n",
    "Import the csv file containing exchange rates related to a project. Merge the exchange rates with our Kickstarter dataset. Then, convert the funding goal and the pledged funding into USD, based on the current exchange rate and their historic exchange rates.\n",
    "\n",
    "**Code**"
   ]
  },
  {
   "cell_type": "code",
   "execution_count": null,
   "metadata": {},
   "outputs": [],
   "source": [
    "# read in exchange rates\n",
    "exchange_rates = pd.read_csv('exchange_rates.csv')\n",
    "exchange_rates.head()"
   ]
  },
  {
   "cell_type": "code",
   "execution_count": null,
   "metadata": {},
   "outputs": [],
   "source": [
    "# join exchange rates with kickstarter_projects\n",
    "kickstarter_clean = kickstarter_clean.merge(exchange_rates, on='project_id', how='left')"
   ]
  },
  {
   "cell_type": "code",
   "execution_count": null,
   "metadata": {},
   "outputs": [],
   "source": [
    "# convert project financial goal into usd\n",
    "kickstarter_clean['goal_current_usd'] = kickstarter_clean['goal'] / kickstarter_clean['current_fx_rate(usd)']\n",
    "kickstarter_clean['goal_hist_usd'] = kickstarter_clean['goal'] / kickstarter_clean['hist_exchange_rate(usd)']\n",
    "\n",
    "# convert pledged amounts into usd\n",
    "kickstarter_clean['pledged_current_usd'] = kickstarter_clean['usd_pledged'] / kickstarter_clean['current_fx_rate(usd)']\n",
    "kickstarter_clean['pledged_hist_usd'] = kickstarter_clean['usd_pledged'] / kickstarter_clean['hist_exchange_rate(usd)']"
   ]
  },
  {
   "cell_type": "markdown",
   "metadata": {},
   "source": [
    "**Test**"
   ]
  },
  {
   "cell_type": "code",
   "execution_count": null,
   "metadata": {},
   "outputs": [],
   "source": [
    "kickstarter_clean[['currency', 'current_fx_rate(usd)', 'hist_exchange_rate(usd)','goal', 'goal_current_usd', 'usd_pledged', 'pledged_current_usd', 'pledged_hist_usd']].sample(10)"
   ]
  },
  {
   "cell_type": "code",
   "execution_count": null,
   "metadata": {},
   "outputs": [],
   "source": [
    "kickstarter_clean.info()"
   ]
  },
  {
   "cell_type": "markdown",
   "metadata": {},
   "source": [
    "_**Some projects miss a description (blurb)**_  \n",
    "\n",
    "**Define**  \n",
    "Drop projects without value in 'blurb'. Reset the index.\n",
    "\n",
    "**Code**"
   ]
  },
  {
   "cell_type": "code",
   "execution_count": null,
   "metadata": {},
   "outputs": [],
   "source": [
    "kickstarter_clean.dropna(subset=['blurb'], inplace=True)\n",
    "kickstarter_clean.reset_index(drop=True, inplace=True)"
   ]
  },
  {
   "cell_type": "markdown",
   "metadata": {},
   "source": [
    "**Test**"
   ]
  },
  {
   "cell_type": "code",
   "execution_count": null,
   "metadata": {},
   "outputs": [],
   "source": [
    "kickstarter_clean[kickstarter_clean.blurb.isna()]['blurb']"
   ]
  },
  {
   "cell_type": "markdown",
   "metadata": {},
   "source": [
    "_**Erroneous data types - country, currency, status, category and subcategory should be of type category**_\n",
    "\n",
    "**Define**  \n",
    "Convert country, currency, status, category and subcategory into category.\n",
    "\n",
    "**Code**"
   ]
  },
  {
   "cell_type": "code",
   "execution_count": null,
   "metadata": {},
   "outputs": [],
   "source": [
    "# To category\n",
    "kickstarter_clean['country'] = kickstarter_clean['country'].astype('category')\n",
    "kickstarter_clean['currency'] = kickstarter_clean['currency'].astype('category')\n",
    "kickstarter_clean['status'] = kickstarter_clean['status'].astype('category')\n",
    "kickstarter_clean['category'] = kickstarter_clean['category'].astype('category')\n",
    "kickstarter_clean['subcategory'] = kickstarter_clean['subcategory'].astype('category')"
   ]
  },
  {
   "cell_type": "markdown",
   "metadata": {},
   "source": [
    "**Test**"
   ]
  },
  {
   "cell_type": "code",
   "execution_count": null,
   "metadata": {},
   "outputs": [],
   "source": [
    "kickstarter_clean.info()"
   ]
  },
  {
   "cell_type": "markdown",
   "metadata": {},
   "source": [
    "_**Ambiguous column naming: name should relate to project names, pledged and goal should include the currency measures**_\n",
    "\n",
    "**Define**  \n",
    "Rename the columns name into 'project_name' and goal into 'goal_real', since it refers to the real project currency.\n",
    "\n",
    "**Code**"
   ]
  },
  {
   "cell_type": "code",
   "execution_count": null,
   "metadata": {},
   "outputs": [],
   "source": [
    "kickstarter_clean.rename(index=str, columns={\"name\": \"project_name\", \"goal\": \"goal_real\", \"pledged\": \"pledged_real\"}, inplace=True)"
   ]
  },
  {
   "cell_type": "markdown",
   "metadata": {},
   "source": [
    "**Test**"
   ]
  },
  {
   "cell_type": "code",
   "execution_count": null,
   "metadata": {},
   "outputs": [],
   "source": [
    "kickstarter_clean[['project_name', 'goal_real', \"pledged_real\"]].sample(5)"
   ]
  },
  {
   "cell_type": "markdown",
   "metadata": {},
   "source": [
    "_**Irrelevant columns**_\n",
    "\n",
    "**Define**  \n",
    "Select only columns needed for analysis, reset row index and store as master_df. Necessary columns are in the following order: 'project_id', 'project_name', 'url','blurb', 'category', 'subcategory', 'image', 'slug', 'created_at', 'launched_at', 'deadline', 'state_changed_at', 'last_update_at', 'status', 'creator_id', 'creator_name', 'country', 'city', 'state', 'displ_loc', 'loc_type', 'backers_count', 'spotlight', 'staff_pick','currency', 'goal_real','goal_current_usd', 'goal_hist_usd', 'pledged_real','pledged_current_usd', 'pledged_hist_usd', 'current_fx_rate(usd)','hist_exchange_rate(usd)'.\n",
    "\n",
    "**Code**"
   ]
  },
  {
   "cell_type": "code",
   "execution_count": null,
   "metadata": {},
   "outputs": [],
   "source": [
    "master_df = kickstarter_clean[['project_id', 'project_name', 'url','blurb', 'category', 'subcategory', 'image', 'slug', 'created_at', 'launched_at', 'deadline', 'state_changed_at', 'last_update_at', 'status', 'creator_id', 'creator_name', 'country', 'city', 'state', 'displ_loc', 'loc_type', 'backers_count', 'spotlight', 'staff_pick','currency', 'goal_real','goal_current_usd', 'goal_hist_usd', 'pledged_real','pledged_current_usd', 'pledged_hist_usd', 'current_fx_rate(usd)','hist_exchange_rate(usd)']].reset_index(drop=True)"
   ]
  },
  {
   "cell_type": "markdown",
   "metadata": {},
   "source": [
    "**Test**"
   ]
  },
  {
   "cell_type": "code",
   "execution_count": null,
   "metadata": {},
   "outputs": [],
   "source": [
    "master_df.info()"
   ]
  },
  {
   "cell_type": "markdown",
   "metadata": {},
   "source": [
    "## Store master"
   ]
  },
  {
   "cell_type": "code",
   "execution_count": null,
   "metadata": {},
   "outputs": [],
   "source": [
    "# Store clean data frame in two CSV files to limit file size and therefore allow pushing to Github\n",
    "third = len(master_df) // 3\n",
    "master_1_df = master_df.iloc[:third]\n",
    "master_2_df = master_df.iloc[third:2*third]\n",
    "master_3_df = master_df.iloc[2*third:]\n",
    "master_1_df.to_csv('./data/kickstarter_master1.csv', index=False, encoding='utf-8')\n",
    "master_2_df.to_csv('./data/kickstarter_master2.csv', index=False, encoding='utf-8')\n",
    "master_3_df.to_csv('./data/kickstarter_master3.csv', index=False, encoding='utf-8')"
   ]
  }
 ],
 "metadata": {
  "kernelspec": {
   "display_name": "Python 3",
   "language": "python",
   "name": "python3"
  },
  "language_info": {
   "codemirror_mode": {
    "name": "ipython",
    "version": 3
   },
   "file_extension": ".py",
   "mimetype": "text/x-python",
   "name": "python",
   "nbconvert_exporter": "python",
   "pygments_lexer": "ipython3",
   "version": "3.6.8"
  }
 },
 "nbformat": 4,
 "nbformat_minor": 2
}
